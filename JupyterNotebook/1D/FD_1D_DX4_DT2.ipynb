{
 "cells": [
  {
   "cell_type": "markdown",
   "metadata": {},
   "source": [
    "# FD_1D_DX4_DT2 1-D acoustic Finite-Difference modelling\n",
    "\n",
    "GNU General Public License v3.0\n",
    "\n",
    "Author: Florian Wittkamp\n",
    "\n",
    "Finite-Difference acoustic seismic wave simulation\n",
    "Discretization of the first-order acoustic wave equation\n",
    "\n",
    "Temporal second-order accuracy $O(\\Delta T^2)$\n",
    "\n",
    "Spatial fourth-order accuracy  $O(\\Delta X^4)$"
   ]
  },
  {
   "cell_type": "markdown",
   "metadata": {},
   "source": [
    "##  Initialisation"
   ]
  },
  {
   "cell_type": "code",
   "execution_count": 1,
   "metadata": {},
   "outputs": [],
   "source": [
    "%matplotlib inline\n",
    "import numpy as np\n",
    "import time as tm\n",
    "import matplotlib.pyplot as plt"
   ]
  },
  {
   "cell_type": "markdown",
   "metadata": {},
   "source": [
    "## Input Parameter"
   ]
  },
  {
   "cell_type": "code",
   "execution_count": 2,
   "metadata": {},
   "outputs": [],
   "source": [
    "# Discretization\n",
    "c1=20   # Number of grid points per dominant wavelength\n",
    "c2=0.5  # CFL-Number\n",
    "nx=2000 # Number of grid points\n",
    "T=10     # Total propagation time\n",
    "\n",
    "# Source Signal\n",
    "f0= 10      # Center frequency Ricker-wavelet\n",
    "q0= 1       # Maximum amplitude Ricker-Wavelet\n",
    "xscr = 100  # Source position (in grid points)\n",
    "\n",
    "# Receiver\n",
    "xrec1=400  # Position Reciever 1 (in grid points)\n",
    "xrec2=800  # Position Reciever 2 (in grid points)\n",
    "xrec3=1800 # Position Reciever 3 (in grid points)\n",
    "\n",
    "# Velocity and density\n",
    "modell_v = np.hstack((1000*np.ones((int(nx/2))),2000*np.ones((int(nx/2)))))\n",
    "rho=np.hstack((1*np.ones((int(nx/2))),1.5*np.ones((int(nx/2)))))"
   ]
  },
  {
   "cell_type": "markdown",
   "metadata": {},
   "source": [
    "## Preparation"
   ]
  },
  {
   "cell_type": "code",
   "execution_count": 3,
   "metadata": {},
   "outputs": [
    {
     "name": "stdout",
     "output_type": "stream",
     "text": [
      "Model size: x: 5000.0 in m\n",
      "Temporal discretization:  0.000625  s\n",
      "Spatial discretization:  2.5  m\n",
      "Number of gridpoints per minimum wavelength:  20.0\n"
     ]
    }
   ],
   "source": [
    "# Init wavefields\n",
    "vx=np.zeros(nx)\n",
    "p=np.zeros(nx)\n",
    "\n",
    "# Calculate first Lame-Paramter\n",
    "l=rho * modell_v * modell_v\n",
    "\n",
    "cmin=min(modell_v.flatten())  # Lowest P-wave velocity\n",
    "cmax=max(modell_v.flatten())  # Highest P-wave velocity\n",
    "fmax=2*f0                     # Maximum frequency\n",
    "dx=cmin/(fmax*c1)             # Spatial discretization (in m)\n",
    "dt=dx/(cmax)*c2               # Temporal discretization (in s)\n",
    "lampda_min=cmin/fmax          # Smallest wavelength\n",
    "\n",
    "# Output model parameter:\n",
    "print(\"Model size: x:\",dx*nx,\"in m\")\n",
    "print(\"Temporal discretization: \",dt,\" s\")\n",
    "print(\"Spatial discretization: \",dx,\" m\")\n",
    "print(\"Number of gridpoints per minimum wavelength: \",lampda_min/dx)"
   ]
  },
  {
   "cell_type": "markdown",
   "metadata": {},
   "source": [
    "## Create space and time vector"
   ]
  },
  {
   "cell_type": "code",
   "execution_count": 4,
   "metadata": {},
   "outputs": [
    {
     "data": {
      "image/png": "[encoded data removed]",
      "text/plain": [
       "<Figure size 432x288 with 2 Axes>"
      ]
     },
     "metadata": {
      "needs_background": "light"
     },
     "output_type": "display_data"
    }
   ],
   "source": [
    "x=np.arange(0,dx*nx,dx) # Space vector\n",
    "t=np.arange(0,T,dt)     # Time vector\n",
    "nt=np.size(t)           # Number of time steps\n",
    "\n",
    "# Plotting model\n",
    "fig, (ax1, ax2) = plt.subplots(1, 2)\n",
    "fig.subplots_adjust(wspace=0.4,right=1.6)\n",
    "ax1.plot(x,modell_v)\n",
    "ax1.set_ylabel('VP in m/s')\n",
    "ax1.set_xlabel('Depth in m')\n",
    "ax1.set_title('P-wave velocity')\n",
    "\n",
    "ax2.plot(x,rho)\n",
    "ax2.set_ylabel('Density in g/cm^3')\n",
    "ax2.set_xlabel('Depth in m')\n",
    "ax2.set_title('Density');\n"
   ]
  },
  {
   "cell_type": "markdown",
   "metadata": {},
   "source": [
    "## Source signal - Ricker-wavelet"
   ]
  },
  {
   "cell_type": "code",
   "execution_count": 5,
   "metadata": {},
   "outputs": [
    {
     "data": {
      "image/png": "[encoded data removed]",
      "text/plain": [
       "<Figure size 432x288 with 1 Axes>"
      ]
     },
     "metadata": {
      "needs_background": "light"
     },
     "output_type": "display_data"
    }
   ],
   "source": [
    "tau=np.pi*f0*(t-1.5/f0)\n",
    "q=q0*(1.0-2.0*tau**2.0)*np.exp(-tau**2)\n",
    "\n",
    "# Plotting source signal\n",
    "plt.figure(3)\n",
    "plt.plot(t,q)\n",
    "plt.title('Source signal Ricker-Wavelet')\n",
    "plt.ylabel('Amplitude')\n",
    "plt.xlabel('Time in s')\n",
    "plt.draw()"
   ]
  },
  {
   "cell_type": "markdown",
   "metadata": {},
   "source": [
    "## Time stepping"
   ]
  },
  {
   "cell_type": "code",
   "execution_count": null,
   "metadata": {},
   "outputs": [
    {
     "name": "stdout",
     "output_type": "stream",
     "text": [
      "Starting time stepping...\n"
     ]
    }
   ],
   "source": [
    "# Init Seismograms\n",
    "Seismogramm=np.zeros((3,nt)); # Three seismograms\n",
    "\n",
    "# Calculation of some coefficients\n",
    "i_dx=1.0/(dx)\n",
    "\n",
    "## Time stepping\n",
    "print(\"Starting time stepping...\")\n",
    "for n in range(2,nt):\n",
    "\n",
    "        # Inject source wavelet\n",
    "        p[xscr]=p[xscr]+q[n]\n",
    "\n",
    "        # Update velocity\n",
    "        for kx in range(5,nx-4):\n",
    "            # Calculating spatial derivative\n",
    "            p_x=i_dx*9.0/8.0*(p[kx+1]-p[kx])-i_dx*1.0/24.0*(p[kx+2]-p[kx-1])\n",
    "\n",
    "            # Update velocity\n",
    "            vx[kx]=vx[kx]-dt/rho[kx]*p_x\n",
    "\n",
    "        # Update pressure\n",
    "        for kx in range(5,nx-4):\n",
    "\n",
    "            # Calculating spatial derivative\n",
    "            vx_x= i_dx*9.0/8.0*(vx[kx]-vx[kx-1])-i_dx*1.0/24.0*(vx[kx+1]-vx[kx-2])\n",
    "\n",
    "            # Update pressure\n",
    "            p[kx]=p[kx]-l[kx]*dt*(vx_x)\n",
    "\n",
    "        # Save seismograms\n",
    "        Seismogramm[0,n]=p[xrec1]\n",
    "        Seismogramm[1,n]=p[xrec2]\n",
    "        Seismogramm[2,n]=p[xrec3]\n",
    "print(\"Finished time stepping!\")"
   ]
  },
  {
   "cell_type": "markdown",
   "metadata": {},
   "source": [
    "## Save seismograms"
   ]
  },
  {
   "cell_type": "code",
   "execution_count": null,
   "metadata": {},
   "outputs": [],
   "source": [
    "## Save seismograms\n",
    "np.save(\"Seismograms/FD_1D_DX4_DT2\",Seismogramm)\n",
    "\n",
    "## Plot seismograms\n",
    "fig, (ax1, ax2, ax3) = plt.subplots(3, 1)\n",
    "fig.subplots_adjust(hspace=0.4,right=1.6, top = 2 )\n",
    "\n",
    "ax1.plot(t,Seismogramm[0,:])\n",
    "ax1.set_title('Seismogram 1')\n",
    "ax1.set_ylabel('Amplitude')\n",
    "ax1.set_xlabel('Time in s')\n",
    "ax1.set_xlim(0, T)\n",
    "\n",
    "ax2.plot(t,Seismogramm[1,:])\n",
    "ax2.set_title('Seismogram 2')\n",
    "ax2.set_ylabel('Amplitude')\n",
    "ax2.set_xlabel('Time in s')\n",
    "ax2.set_xlim(0, T)\n",
    "\n",
    "ax3.plot(t,Seismogramm[2,:])\n",
    "ax3.set_title('Seismogram 3')\n",
    "ax3.set_ylabel('Amplitude')\n",
    "ax3.set_xlabel('Time in s')\n",
    "ax3.set_xlim(0, T);\n"
   ]
  }
 ],
 "metadata": {
  "kernelspec": {
   "display_name": "Python 3 (ipykernel)",
   "language": "python",
   "name": "python3"
  },
  "language_info": {
   "codemirror_mode": {
    "name": "ipython",
    "version": 3
   },
   "file_extension": ".py",
   "mimetype": "text/x-python",
   "name": "python",
   "nbconvert_exporter": "python",
   "pygments_lexer": "ipython3",
   "version": "3.9.2"
  }
 },
 "nbformat": 4,
 "nbformat_minor": 4
}
